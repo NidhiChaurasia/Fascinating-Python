{
  "nbformat": 4,
  "nbformat_minor": 0,
  "metadata": {
    "colab": {
      "name": "Performing Analysis of Meterological Data.ipynb",
      "provenance": [],
      "authorship_tag": "ABX9TyP5vq0hOPFWloSVteqnzg4h",
      "include_colab_link": true
    },
    "kernelspec": {
      "display_name": "Python 3",
      "name": "python3"
    },
    "language_info": {
      "name": "python"
    }
  },
  "cells": [
    {
      "cell_type": "markdown",
      "metadata": {
        "id": "view-in-github",
        "colab_type": "text"
      },
      "source": [
        "<a href=\"https://colab.research.google.com/github/NidhiChaurasia/PythonProjects/blob/main/Performing_Analysis_of_Meterological_Data.ipynb\" target=\"_parent\"><img src=\"https://colab.research.google.com/assets/colab-badge.svg\" alt=\"Open In Colab\"/></a>"
      ]
    },
    {
      "cell_type": "code",
      "metadata": {
        "colab": {
          "background_save": true
        },
        "id": "pdXc6HxQ4vhj"
      },
      "source": [
        "import pandas as pd \n",
        "from google.colab import files\n",
        "upload = files.upload()"
      ],
      "execution_count": null,
      "outputs": []
    },
    {
      "cell_type": "code",
      "metadata": {
        "id": "hnq0e8aY8B4S"
      },
      "source": [
        "dataset = pd.read_csv(\"weatherHistory.csv\")"
      ],
      "execution_count": null,
      "outputs": []
    },
    {
      "cell_type": "code",
      "metadata": {
        "id": "VTM24w498Ll5"
      },
      "source": [
        "import numpy as np\n",
        "import seaborn as sns\n",
        "import matplotlib.pyplot as plt"
      ],
      "execution_count": null,
      "outputs": []
    },
    {
      "cell_type": "code",
      "metadata": {
        "colab": {
          "base_uri": "https://localhost:8080/",
          "height": 306
        },
        "id": "4AkvJm3L8ccU",
        "outputId": "2079ac9f-b08a-4348-89e8-b9f705eab908"
      },
      "source": [
        "dataset.head()"
      ],
      "execution_count": null,
      "outputs": [
        {
          "output_type": "execute_result",
          "data": {
            "text/html": [
              "<div>\n",
              "<style scoped>\n",
              "    .dataframe tbody tr th:only-of-type {\n",
              "        vertical-align: middle;\n",
              "    }\n",
              "\n",
              "    .dataframe tbody tr th {\n",
              "        vertical-align: top;\n",
              "    }\n",
              "\n",
              "    .dataframe thead th {\n",
              "        text-align: right;\n",
              "    }\n",
              "</style>\n",
              "<table border=\"1\" class=\"dataframe\">\n",
              "  <thead>\n",
              "    <tr style=\"text-align: right;\">\n",
              "      <th></th>\n",
              "      <th>Formatted Date</th>\n",
              "      <th>Summary</th>\n",
              "      <th>Precip Type</th>\n",
              "      <th>Temperature (C)</th>\n",
              "      <th>Apparent Temperature (C)</th>\n",
              "      <th>Humidity</th>\n",
              "      <th>Wind Speed (km/h)</th>\n",
              "      <th>Wind Bearing (degrees)</th>\n",
              "      <th>Visibility (km)</th>\n",
              "      <th>Loud Cover</th>\n",
              "      <th>Pressure (millibars)</th>\n",
              "      <th>Daily Summary</th>\n",
              "    </tr>\n",
              "  </thead>\n",
              "  <tbody>\n",
              "    <tr>\n",
              "      <th>0</th>\n",
              "      <td>2006-04-01 00:00:00.000 +0200</td>\n",
              "      <td>Partly Cloudy</td>\n",
              "      <td>rain</td>\n",
              "      <td>9.472222</td>\n",
              "      <td>7.388889</td>\n",
              "      <td>0.89</td>\n",
              "      <td>14.1197</td>\n",
              "      <td>251.0</td>\n",
              "      <td>15.8263</td>\n",
              "      <td>0.0</td>\n",
              "      <td>1015.13</td>\n",
              "      <td>Partly cloudy throughout the day.</td>\n",
              "    </tr>\n",
              "    <tr>\n",
              "      <th>1</th>\n",
              "      <td>2006-04-01 01:00:00.000 +0200</td>\n",
              "      <td>Partly Cloudy</td>\n",
              "      <td>rain</td>\n",
              "      <td>9.355556</td>\n",
              "      <td>7.227778</td>\n",
              "      <td>0.86</td>\n",
              "      <td>14.2646</td>\n",
              "      <td>259.0</td>\n",
              "      <td>15.8263</td>\n",
              "      <td>0.0</td>\n",
              "      <td>1015.63</td>\n",
              "      <td>Partly cloudy throughout the day.</td>\n",
              "    </tr>\n",
              "    <tr>\n",
              "      <th>2</th>\n",
              "      <td>2006-04-01 02:00:00.000 +0200</td>\n",
              "      <td>Mostly Cloudy</td>\n",
              "      <td>rain</td>\n",
              "      <td>9.377778</td>\n",
              "      <td>9.377778</td>\n",
              "      <td>0.89</td>\n",
              "      <td>3.9284</td>\n",
              "      <td>204.0</td>\n",
              "      <td>14.9569</td>\n",
              "      <td>0.0</td>\n",
              "      <td>1015.94</td>\n",
              "      <td>Partly cloudy throughout the day.</td>\n",
              "    </tr>\n",
              "    <tr>\n",
              "      <th>3</th>\n",
              "      <td>2006-04-01 03:00:00.000 +0200</td>\n",
              "      <td>Partly Cloudy</td>\n",
              "      <td>rain</td>\n",
              "      <td>8.288889</td>\n",
              "      <td>5.944444</td>\n",
              "      <td>0.83</td>\n",
              "      <td>14.1036</td>\n",
              "      <td>269.0</td>\n",
              "      <td>15.8263</td>\n",
              "      <td>0.0</td>\n",
              "      <td>1016.41</td>\n",
              "      <td>Partly cloudy throughout the day.</td>\n",
              "    </tr>\n",
              "    <tr>\n",
              "      <th>4</th>\n",
              "      <td>2006-04-01 04:00:00.000 +0200</td>\n",
              "      <td>Mostly Cloudy</td>\n",
              "      <td>rain</td>\n",
              "      <td>8.755556</td>\n",
              "      <td>6.977778</td>\n",
              "      <td>0.83</td>\n",
              "      <td>11.0446</td>\n",
              "      <td>259.0</td>\n",
              "      <td>15.8263</td>\n",
              "      <td>0.0</td>\n",
              "      <td>1016.51</td>\n",
              "      <td>Partly cloudy throughout the day.</td>\n",
              "    </tr>\n",
              "  </tbody>\n",
              "</table>\n",
              "</div>"
            ],
            "text/plain": [
              "                  Formatted Date  ...                      Daily Summary\n",
              "0  2006-04-01 00:00:00.000 +0200  ...  Partly cloudy throughout the day.\n",
              "1  2006-04-01 01:00:00.000 +0200  ...  Partly cloudy throughout the day.\n",
              "2  2006-04-01 02:00:00.000 +0200  ...  Partly cloudy throughout the day.\n",
              "3  2006-04-01 03:00:00.000 +0200  ...  Partly cloudy throughout the day.\n",
              "4  2006-04-01 04:00:00.000 +0200  ...  Partly cloudy throughout the day.\n",
              "\n",
              "[5 rows x 12 columns]"
            ]
          },
          "metadata": {
            "tags": []
          },
          "execution_count": 5
        }
      ]
    },
    {
      "cell_type": "code",
      "metadata": {
        "colab": {
          "base_uri": "https://localhost:8080/"
        },
        "id": "QeZ_yji48mvq",
        "outputId": "d0815217-80e8-4fa1-9a10-efd3b11903cd"
      },
      "source": [
        "dataset.isnull().sum()"
      ],
      "execution_count": null,
      "outputs": [
        {
          "output_type": "execute_result",
          "data": {
            "text/plain": [
              "Formatted Date                0\n",
              "Summary                       0\n",
              "Precip Type                 517\n",
              "Temperature (C)               0\n",
              "Apparent Temperature (C)      0\n",
              "Humidity                      0\n",
              "Wind Speed (km/h)             0\n",
              "Wind Bearing (degrees)        0\n",
              "Visibility (km)               0\n",
              "Loud Cover                    0\n",
              "Pressure (millibars)          0\n",
              "Daily Summary                 0\n",
              "dtype: int64"
            ]
          },
          "metadata": {
            "tags": []
          },
          "execution_count": 6
        }
      ]
    },
    {
      "cell_type": "code",
      "metadata": {
        "colab": {
          "base_uri": "https://localhost:8080/"
        },
        "id": "EBWYZzZH8s20",
        "outputId": "fe0d3862-6660-4de2-8234-9baee7130520"
      },
      "source": [
        "dataset.info()"
      ],
      "execution_count": null,
      "outputs": [
        {
          "output_type": "stream",
          "text": [
            "<class 'pandas.core.frame.DataFrame'>\n",
            "RangeIndex: 96453 entries, 0 to 96452\n",
            "Data columns (total 12 columns):\n",
            " #   Column                    Non-Null Count  Dtype  \n",
            "---  ------                    --------------  -----  \n",
            " 0   Formatted Date            96453 non-null  object \n",
            " 1   Summary                   96453 non-null  object \n",
            " 2   Precip Type               95936 non-null  object \n",
            " 3   Temperature (C)           96453 non-null  float64\n",
            " 4   Apparent Temperature (C)  96453 non-null  float64\n",
            " 5   Humidity                  96453 non-null  float64\n",
            " 6   Wind Speed (km/h)         96453 non-null  float64\n",
            " 7   Wind Bearing (degrees)    96453 non-null  float64\n",
            " 8   Visibility (km)           96453 non-null  float64\n",
            " 9   Loud Cover                96453 non-null  float64\n",
            " 10  Pressure (millibars)      96453 non-null  float64\n",
            " 11  Daily Summary             96453 non-null  object \n",
            "dtypes: float64(8), object(4)\n",
            "memory usage: 8.8+ MB\n"
          ],
          "name": "stdout"
        }
      ]
    },
    {
      "cell_type": "code",
      "metadata": {
        "id": "_JREQbrB_9c3"
      },
      "source": [
        "dataset['Formatted Date']= pd.to_datetime(dataset['Formatted Date'] , utc=True)"
      ],
      "execution_count": null,
      "outputs": []
    },
    {
      "cell_type": "code",
      "metadata": {
        "colab": {
          "base_uri": "https://localhost:8080/"
        },
        "id": "z6JFHv-l8w2v",
        "outputId": "65a2bcce-b0e5-4a95-caa4-7b568d9f2154"
      },
      "source": [
        "dataset['Formatted Date']"
      ],
      "execution_count": null,
      "outputs": [
        {
          "output_type": "execute_result",
          "data": {
            "text/plain": [
              "0       2006-03-31 22:00:00+00:00\n",
              "1       2006-03-31 23:00:00+00:00\n",
              "2       2006-04-01 00:00:00+00:00\n",
              "3       2006-04-01 01:00:00+00:00\n",
              "4       2006-04-01 02:00:00+00:00\n",
              "                   ...           \n",
              "96448   2016-09-09 17:00:00+00:00\n",
              "96449   2016-09-09 18:00:00+00:00\n",
              "96450   2016-09-09 19:00:00+00:00\n",
              "96451   2016-09-09 20:00:00+00:00\n",
              "96452   2016-09-09 21:00:00+00:00\n",
              "Name: Formatted Date, Length: 96453, dtype: datetime64[ns, UTC]"
            ]
          },
          "metadata": {
            "tags": []
          },
          "execution_count": 11
        }
      ]
    },
    {
      "cell_type": "code",
      "metadata": {
        "colab": {
          "base_uri": "https://localhost:8080/",
          "height": 337
        },
        "id": "PKMfH5lpBJPM",
        "outputId": "67f43a76-61d4-4f79-8f70-1617d3a9eeee"
      },
      "source": [
        "dataset = dataset.set_index('Formatted Date')\n",
        "dataset.head()"
      ],
      "execution_count": null,
      "outputs": [
        {
          "output_type": "execute_result",
          "data": {
            "text/html": [
              "<div>\n",
              "<style scoped>\n",
              "    .dataframe tbody tr th:only-of-type {\n",
              "        vertical-align: middle;\n",
              "    }\n",
              "\n",
              "    .dataframe tbody tr th {\n",
              "        vertical-align: top;\n",
              "    }\n",
              "\n",
              "    .dataframe thead th {\n",
              "        text-align: right;\n",
              "    }\n",
              "</style>\n",
              "<table border=\"1\" class=\"dataframe\">\n",
              "  <thead>\n",
              "    <tr style=\"text-align: right;\">\n",
              "      <th></th>\n",
              "      <th>Summary</th>\n",
              "      <th>Precip Type</th>\n",
              "      <th>Temperature (C)</th>\n",
              "      <th>Apparent Temperature (C)</th>\n",
              "      <th>Humidity</th>\n",
              "      <th>Wind Speed (km/h)</th>\n",
              "      <th>Wind Bearing (degrees)</th>\n",
              "      <th>Visibility (km)</th>\n",
              "      <th>Loud Cover</th>\n",
              "      <th>Pressure (millibars)</th>\n",
              "      <th>Daily Summary</th>\n",
              "    </tr>\n",
              "    <tr>\n",
              "      <th>Formatted Date</th>\n",
              "      <th></th>\n",
              "      <th></th>\n",
              "      <th></th>\n",
              "      <th></th>\n",
              "      <th></th>\n",
              "      <th></th>\n",
              "      <th></th>\n",
              "      <th></th>\n",
              "      <th></th>\n",
              "      <th></th>\n",
              "      <th></th>\n",
              "    </tr>\n",
              "  </thead>\n",
              "  <tbody>\n",
              "    <tr>\n",
              "      <th>2006-03-31 22:00:00+00:00</th>\n",
              "      <td>Partly Cloudy</td>\n",
              "      <td>rain</td>\n",
              "      <td>9.472222</td>\n",
              "      <td>7.388889</td>\n",
              "      <td>0.89</td>\n",
              "      <td>14.1197</td>\n",
              "      <td>251.0</td>\n",
              "      <td>15.8263</td>\n",
              "      <td>0.0</td>\n",
              "      <td>1015.13</td>\n",
              "      <td>Partly cloudy throughout the day.</td>\n",
              "    </tr>\n",
              "    <tr>\n",
              "      <th>2006-03-31 23:00:00+00:00</th>\n",
              "      <td>Partly Cloudy</td>\n",
              "      <td>rain</td>\n",
              "      <td>9.355556</td>\n",
              "      <td>7.227778</td>\n",
              "      <td>0.86</td>\n",
              "      <td>14.2646</td>\n",
              "      <td>259.0</td>\n",
              "      <td>15.8263</td>\n",
              "      <td>0.0</td>\n",
              "      <td>1015.63</td>\n",
              "      <td>Partly cloudy throughout the day.</td>\n",
              "    </tr>\n",
              "    <tr>\n",
              "      <th>2006-04-01 00:00:00+00:00</th>\n",
              "      <td>Mostly Cloudy</td>\n",
              "      <td>rain</td>\n",
              "      <td>9.377778</td>\n",
              "      <td>9.377778</td>\n",
              "      <td>0.89</td>\n",
              "      <td>3.9284</td>\n",
              "      <td>204.0</td>\n",
              "      <td>14.9569</td>\n",
              "      <td>0.0</td>\n",
              "      <td>1015.94</td>\n",
              "      <td>Partly cloudy throughout the day.</td>\n",
              "    </tr>\n",
              "    <tr>\n",
              "      <th>2006-04-01 01:00:00+00:00</th>\n",
              "      <td>Partly Cloudy</td>\n",
              "      <td>rain</td>\n",
              "      <td>8.288889</td>\n",
              "      <td>5.944444</td>\n",
              "      <td>0.83</td>\n",
              "      <td>14.1036</td>\n",
              "      <td>269.0</td>\n",
              "      <td>15.8263</td>\n",
              "      <td>0.0</td>\n",
              "      <td>1016.41</td>\n",
              "      <td>Partly cloudy throughout the day.</td>\n",
              "    </tr>\n",
              "    <tr>\n",
              "      <th>2006-04-01 02:00:00+00:00</th>\n",
              "      <td>Mostly Cloudy</td>\n",
              "      <td>rain</td>\n",
              "      <td>8.755556</td>\n",
              "      <td>6.977778</td>\n",
              "      <td>0.83</td>\n",
              "      <td>11.0446</td>\n",
              "      <td>259.0</td>\n",
              "      <td>15.8263</td>\n",
              "      <td>0.0</td>\n",
              "      <td>1016.51</td>\n",
              "      <td>Partly cloudy throughout the day.</td>\n",
              "    </tr>\n",
              "  </tbody>\n",
              "</table>\n",
              "</div>"
            ],
            "text/plain": [
              "                                 Summary  ...                      Daily Summary\n",
              "Formatted Date                            ...                                   \n",
              "2006-03-31 22:00:00+00:00  Partly Cloudy  ...  Partly cloudy throughout the day.\n",
              "2006-03-31 23:00:00+00:00  Partly Cloudy  ...  Partly cloudy throughout the day.\n",
              "2006-04-01 00:00:00+00:00  Mostly Cloudy  ...  Partly cloudy throughout the day.\n",
              "2006-04-01 01:00:00+00:00  Partly Cloudy  ...  Partly cloudy throughout the day.\n",
              "2006-04-01 02:00:00+00:00  Mostly Cloudy  ...  Partly cloudy throughout the day.\n",
              "\n",
              "[5 rows x 11 columns]"
            ]
          },
          "metadata": {
            "tags": []
          },
          "execution_count": 12
        }
      ]
    },
    {
      "cell_type": "code",
      "metadata": {
        "colab": {
          "base_uri": "https://localhost:8080/",
          "height": 235
        },
        "id": "X21-uZEABdxa",
        "outputId": "65569677-3141-4e2b-aabc-002bfd84a674"
      },
      "source": [
        "data_columns = ['Apparent Temperature (C)','Humidity']\n",
        "df_monthly_mean = dataset[data_columns].resample('MS').mean()\n",
        "df_monthly_mean.head()"
      ],
      "execution_count": null,
      "outputs": [
        {
          "output_type": "execute_result",
          "data": {
            "text/html": [
              "<div>\n",
              "<style scoped>\n",
              "    .dataframe tbody tr th:only-of-type {\n",
              "        vertical-align: middle;\n",
              "    }\n",
              "\n",
              "    .dataframe tbody tr th {\n",
              "        vertical-align: top;\n",
              "    }\n",
              "\n",
              "    .dataframe thead th {\n",
              "        text-align: right;\n",
              "    }\n",
              "</style>\n",
              "<table border=\"1\" class=\"dataframe\">\n",
              "  <thead>\n",
              "    <tr style=\"text-align: right;\">\n",
              "      <th></th>\n",
              "      <th>Apparent Temperature (C)</th>\n",
              "      <th>Humidity</th>\n",
              "    </tr>\n",
              "    <tr>\n",
              "      <th>Formatted Date</th>\n",
              "      <th></th>\n",
              "      <th></th>\n",
              "    </tr>\n",
              "  </thead>\n",
              "  <tbody>\n",
              "    <tr>\n",
              "      <th>2005-12-01 00:00:00+00:00</th>\n",
              "      <td>-4.050000</td>\n",
              "      <td>0.890000</td>\n",
              "    </tr>\n",
              "    <tr>\n",
              "      <th>2006-01-01 00:00:00+00:00</th>\n",
              "      <td>-4.173708</td>\n",
              "      <td>0.834610</td>\n",
              "    </tr>\n",
              "    <tr>\n",
              "      <th>2006-02-01 00:00:00+00:00</th>\n",
              "      <td>-2.990716</td>\n",
              "      <td>0.843467</td>\n",
              "    </tr>\n",
              "    <tr>\n",
              "      <th>2006-03-01 00:00:00+00:00</th>\n",
              "      <td>1.969780</td>\n",
              "      <td>0.778737</td>\n",
              "    </tr>\n",
              "    <tr>\n",
              "      <th>2006-04-01 00:00:00+00:00</th>\n",
              "      <td>12.098827</td>\n",
              "      <td>0.728625</td>\n",
              "    </tr>\n",
              "  </tbody>\n",
              "</table>\n",
              "</div>"
            ],
            "text/plain": [
              "                           Apparent Temperature (C)  Humidity\n",
              "Formatted Date                                               \n",
              "2005-12-01 00:00:00+00:00                 -4.050000  0.890000\n",
              "2006-01-01 00:00:00+00:00                 -4.173708  0.834610\n",
              "2006-02-01 00:00:00+00:00                 -2.990716  0.843467\n",
              "2006-03-01 00:00:00+00:00                  1.969780  0.778737\n",
              "2006-04-01 00:00:00+00:00                 12.098827  0.728625"
            ]
          },
          "metadata": {
            "tags": []
          },
          "execution_count": 13
        }
      ]
    },
    {
      "cell_type": "code",
      "metadata": {
        "colab": {
          "base_uri": "https://localhost:8080/",
          "height": 450
        },
        "id": "KreQBrHFCEXn",
        "outputId": "c23c026c-665a-4f1b-94b3-2b61f8766616"
      },
      "source": [
        "df_monthly_mean"
      ],
      "execution_count": null,
      "outputs": [
        {
          "output_type": "execute_result",
          "data": {
            "text/html": [
              "<div>\n",
              "<style scoped>\n",
              "    .dataframe tbody tr th:only-of-type {\n",
              "        vertical-align: middle;\n",
              "    }\n",
              "\n",
              "    .dataframe tbody tr th {\n",
              "        vertical-align: top;\n",
              "    }\n",
              "\n",
              "    .dataframe thead th {\n",
              "        text-align: right;\n",
              "    }\n",
              "</style>\n",
              "<table border=\"1\" class=\"dataframe\">\n",
              "  <thead>\n",
              "    <tr style=\"text-align: right;\">\n",
              "      <th></th>\n",
              "      <th>Apparent Temperature (C)</th>\n",
              "      <th>Humidity</th>\n",
              "    </tr>\n",
              "    <tr>\n",
              "      <th>Formatted Date</th>\n",
              "      <th></th>\n",
              "      <th></th>\n",
              "    </tr>\n",
              "  </thead>\n",
              "  <tbody>\n",
              "    <tr>\n",
              "      <th>2005-12-01 00:00:00+00:00</th>\n",
              "      <td>-4.050000</td>\n",
              "      <td>0.890000</td>\n",
              "    </tr>\n",
              "    <tr>\n",
              "      <th>2006-01-01 00:00:00+00:00</th>\n",
              "      <td>-4.173708</td>\n",
              "      <td>0.834610</td>\n",
              "    </tr>\n",
              "    <tr>\n",
              "      <th>2006-02-01 00:00:00+00:00</th>\n",
              "      <td>-2.990716</td>\n",
              "      <td>0.843467</td>\n",
              "    </tr>\n",
              "    <tr>\n",
              "      <th>2006-03-01 00:00:00+00:00</th>\n",
              "      <td>1.969780</td>\n",
              "      <td>0.778737</td>\n",
              "    </tr>\n",
              "    <tr>\n",
              "      <th>2006-04-01 00:00:00+00:00</th>\n",
              "      <td>12.098827</td>\n",
              "      <td>0.728625</td>\n",
              "    </tr>\n",
              "    <tr>\n",
              "      <th>...</th>\n",
              "      <td>...</td>\n",
              "      <td>...</td>\n",
              "    </tr>\n",
              "    <tr>\n",
              "      <th>2016-08-01 00:00:00+00:00</th>\n",
              "      <td>21.383094</td>\n",
              "      <td>0.674046</td>\n",
              "    </tr>\n",
              "    <tr>\n",
              "      <th>2016-09-01 00:00:00+00:00</th>\n",
              "      <td>18.355833</td>\n",
              "      <td>0.688833</td>\n",
              "    </tr>\n",
              "    <tr>\n",
              "      <th>2016-10-01 00:00:00+00:00</th>\n",
              "      <td>8.923947</td>\n",
              "      <td>0.799906</td>\n",
              "    </tr>\n",
              "    <tr>\n",
              "      <th>2016-11-01 00:00:00+00:00</th>\n",
              "      <td>3.048627</td>\n",
              "      <td>0.848472</td>\n",
              "    </tr>\n",
              "    <tr>\n",
              "      <th>2016-12-01 00:00:00+00:00</th>\n",
              "      <td>-2.017272</td>\n",
              "      <td>0.887981</td>\n",
              "    </tr>\n",
              "  </tbody>\n",
              "</table>\n",
              "<p>133 rows × 2 columns</p>\n",
              "</div>"
            ],
            "text/plain": [
              "                           Apparent Temperature (C)  Humidity\n",
              "Formatted Date                                               \n",
              "2005-12-01 00:00:00+00:00                 -4.050000  0.890000\n",
              "2006-01-01 00:00:00+00:00                 -4.173708  0.834610\n",
              "2006-02-01 00:00:00+00:00                 -2.990716  0.843467\n",
              "2006-03-01 00:00:00+00:00                  1.969780  0.778737\n",
              "2006-04-01 00:00:00+00:00                 12.098827  0.728625\n",
              "...                                             ...       ...\n",
              "2016-08-01 00:00:00+00:00                 21.383094  0.674046\n",
              "2016-09-01 00:00:00+00:00                 18.355833  0.688833\n",
              "2016-10-01 00:00:00+00:00                  8.923947  0.799906\n",
              "2016-11-01 00:00:00+00:00                  3.048627  0.848472\n",
              "2016-12-01 00:00:00+00:00                 -2.017272  0.887981\n",
              "\n",
              "[133 rows x 2 columns]"
            ]
          },
          "metadata": {
            "tags": []
          },
          "execution_count": 14
        }
      ]
    },
    {
      "cell_type": "code",
      "metadata": {
        "colab": {
          "base_uri": "https://localhost:8080/"
        },
        "id": "OcDQDCIYCMpB",
        "outputId": "3656f534-5ef6-4e96-ccfd-65e5e75e9d38"
      },
      "source": [
        "df1 = df_monthly_mean[df_monthly_mean.index.month==4]\n",
        "print(df1)\n",
        "\n",
        "df1.dtypes"
      ],
      "execution_count": null,
      "outputs": [
        {
          "output_type": "stream",
          "text": [
            "                           Apparent Temperature (C)  Humidity\n",
            "Formatted Date                                               \n",
            "2006-04-01 00:00:00+00:00                 12.098827  0.728625\n",
            "2007-04-01 00:00:00+00:00                 11.894421  0.536361\n",
            "2008-04-01 00:00:00+00:00                 11.183688  0.693194\n",
            "2009-04-01 00:00:00+00:00                 14.267076  0.567847\n",
            "2010-04-01 00:00:00+00:00                 11.639406  0.706875\n",
            "2011-04-01 00:00:00+00:00                 12.978997  0.591625\n",
            "2012-04-01 00:00:00+00:00                 11.782770  0.650222\n",
            "2013-04-01 00:00:00+00:00                 12.045563  0.677667\n",
            "2014-04-01 00:00:00+00:00                 12.486181  0.691403\n",
            "2015-04-01 00:00:00+00:00                 10.632801  0.547764\n",
            "2016-04-01 00:00:00+00:00                 12.731427  0.659972\n"
          ],
          "name": "stdout"
        },
        {
          "output_type": "execute_result",
          "data": {
            "text/plain": [
              "Apparent Temperature (C)    float64\n",
              "Humidity                    float64\n",
              "dtype: object"
            ]
          },
          "metadata": {
            "tags": []
          },
          "execution_count": 15
        }
      ]
    },
    {
      "cell_type": "code",
      "metadata": {
        "colab": {
          "base_uri": "https://localhost:8080/",
          "height": 421
        },
        "id": "trxOwUjZCe0e",
        "outputId": "b456fd2c-49a9-4e14-b6d5-fc40a53f91fd"
      },
      "source": [
        "import seaborn as sns\n",
        "import warnings\n",
        "warnings.filterwarnings(\"ignore\")\n",
        "\n",
        "plt.figure(figsize=(14,6))\n",
        "plt.title(\"Variation in Apparent Temperature vs Humidity\")\n",
        "sns.lineplot(data=df_monthly_mean)"
      ],
      "execution_count": null,
      "outputs": [
        {
          "output_type": "execute_result",
          "data": {
            "text/plain": [
              "<matplotlib.axes._subplots.AxesSubplot at 0x7fedef36d210>"
            ]
          },
          "metadata": {
            "tags": []
          },
          "execution_count": 26
        },
        {
          "output_type": "display_data",
          "data": {
            "image/png": "[encoded data removed]",
            "text/plain": [
              "<Figure size 1008x432 with 1 Axes>"
            ]
          },
          "metadata": {
            "tags": []
          }
        }
      ]
    },
    {
      "cell_type": "code",
      "metadata": {
        "colab": {
          "base_uri": "https://localhost:8080/",
          "height": 351
        },
        "id": "H4c-e3H1DNEF",
        "outputId": "bae52e43-f915-414d-d99b-bf586e71e2f3"
      },
      "source": [
        "import matplotlib.dates as mdates\n",
        "from datetime import datetime\n",
        "\n",
        "fig, ax = plt.subplots(figsize=(15,5))\n",
        "ax.plot(df1.loc['2006-04-01': '2016-04-01','Apparent Temperature (C)'], marker='o',linestyle='-',label='Apparent Temperature (C)')\n",
        "ax.plot(df1.loc['2006-04-01': '2016-04-01','Humidity'], marker='o',linestyle='-', label='Humidity')\n",
        "ax.xaxis.set_major_formatter(mdates.DateFormatter('%Y-%m'))\n",
        "ax.legend(loc ='center right')\n",
        "ax.set_xlabel('Month of April')"
      ],
      "execution_count": null,
      "outputs": [
        {
          "output_type": "execute_result",
          "data": {
            "text/plain": [
              "Text(0.5, 0, 'Month of April')"
            ]
          },
          "metadata": {
            "tags": []
          },
          "execution_count": 29
        },
        {
          "output_type": "display_data",
          "data": {
            "image/png": "[encoded data removed]",
            "text/plain": [
              "<Figure size 1080x360 with 1 Axes>"
            ]
          },
          "metadata": {
            "tags": []
          }
        }
      ]
    }
  ]
}